{
  "nbformat": 4,
  "nbformat_minor": 0,
  "metadata": {
    "colab": {
      "name": "Untitled1.ipynb",
      "provenance": [],
      "authorship_tag": "ABX9TyMo5yv60gD6E2LkE6InxBv5",
      "include_colab_link": true
    },
    "kernelspec": {
      "name": "python3",
      "display_name": "Python 3"
    }
  },
  "cells": [
    {
      "cell_type": "markdown",
      "metadata": {
        "id": "view-in-github",
        "colab_type": "text"
      },
      "source": [
        "<a href=\"https://colab.research.google.com/github/Tulasi-ummadipolu/Data-science-Batch1/blob/main/Data%20Science%20Assignment-1%20Day-1.ipynb\" target=\"_parent\"><img src=\"https://colab.research.google.com/assets/colab-badge.svg\" alt=\"Open In Colab\"/></a>"
      ]
    },
    {
      "cell_type": "markdown",
      "metadata": {
        "id": "2YoXBqxqIMij"
      },
      "source": [
        "Assignment-1\n",
        "Question-1\n",
        "Given the following jumbled word, OBANWRI guess the correct English word.\n",
        "\n",
        "A. RANIBOW B. RAINBOW C. BOWRANI D. ROBWANI"
      ]
    },
    {
      "cell_type": "code",
      "metadata": {
        "id": "0Yqa2iYqIQ9T"
      },
      "source": [
        "Answer: B,RAINBOW"
      ],
      "execution_count": null,
      "outputs": []
    },
    {
      "cell_type": "markdown",
      "metadata": {
        "id": "r_-pd53mITa6"
      },
      "source": [
        "Question-2"
      ]
    },
    {
      "cell_type": "code",
      "metadata": {
        "id": "OGcW-_n2IV_T",
        "outputId": "a36ee337-fdc1-4fda-c6e3-5820acf65abe",
        "colab": {
          "base_uri": "https://localhost:8080/"
        }
      },
      "source": [
        "print(\"LETS UPGRADE\")"
      ],
      "execution_count": 1,
      "outputs": [
        {
          "output_type": "stream",
          "text": [
            "LETS UPGRADE\n"
          ],
          "name": "stdout"
        }
      ]
    },
    {
      "cell_type": "markdown",
      "metadata": {
        "id": "eLlv_8aRId0h"
      },
      "source": [
        "Question-3"
      ]
    },
    {
      "cell_type": "code",
      "metadata": {
        "id": "_oFsqCEtIgPq",
        "outputId": "8998060c-c930-4c98-d329-931c7b32608f",
        "colab": {
          "base_uri": "https://localhost:8080/"
        }
      },
      "source": [
        "cp=int(input())\n",
        "sp=int(input())\n",
        "if cp<sp:\n",
        "    print(\"Profit\")\n",
        "elif cp>sp:\n",
        "    print(\"Loss\")\n",
        "else:\n",
        "    print(\"Neither\")\n"
      ],
      "execution_count": 2,
      "outputs": [
        {
          "output_type": "stream",
          "text": [
            "20\n",
            "20\n",
            "Neither\n"
          ],
          "name": "stdout"
        }
      ]
    },
    {
      "cell_type": "markdown",
      "metadata": {
        "id": "Xnd5gCSnInSg"
      },
      "source": [
        "Question-4"
      ]
    },
    {
      "cell_type": "code",
      "metadata": {
        "id": "b8z-NeMyIqGk",
        "outputId": "49d77158-5d28-4d6d-99f2-1519d1c68fd2",
        "colab": {
          "base_uri": "https://localhost:8080/"
        }
      },
      "source": [
        "Rupees=int(input())\n",
        "n=80\n",
        "Euro=Rupees*n\n",
        "print(Euro)"
      ],
      "execution_count": 3,
      "outputs": [
        {
          "output_type": "stream",
          "text": [
            "18\n",
            "1440\n"
          ],
          "name": "stdout"
        }
      ]
    }
  ]
}