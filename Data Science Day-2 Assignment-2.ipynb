{
  "nbformat": 4,
  "nbformat_minor": 0,
  "metadata": {
    "colab": {
      "name": "Untitled1.ipynb",
      "provenance": [],
      "authorship_tag": "ABX9TyNhqNUUhFEbpppTwS6iKKye",
      "include_colab_link": true
    },
    "kernelspec": {
      "name": "python3",
      "display_name": "Python 3"
    }
  },
  "cells": [
    {
      "cell_type": "markdown",
      "metadata": {
        "id": "view-in-github",
        "colab_type": "text"
      },
      "source": [
        "<a href=\"https://colab.research.google.com/github/Tulasi-ummadipolu/Data-science-Batch1/blob/main/Data%20Science%20Day-2%20Assignment-2.ipynb\" target=\"_parent\"><img src=\"https://colab.research.google.com/assets/colab-badge.svg\" alt=\"Open In Colab\"/></a>"
      ]
    },
    {
      "cell_type": "markdown",
      "metadata": {
        "id": "PT6zH-t-JOMo"
      },
      "source": [
        "Question No-1"
      ]
    },
    {
      "cell_type": "code",
      "metadata": {
        "id": "-C_4iH_cJQJm",
        "outputId": "c8b8ebb2-c8b6-4c3f-bcde-336925fa9b2f",
        "colab": {
          "base_uri": "https://localhost:8080/"
        }
      },
      "source": [
        "l=[]\n",
        "i=0\n",
        "while i<10:\n",
        "    n=int(input())\n",
        "    if n%2==0:\n",
        "        l.append(n)\n",
        "    i+=1\n",
        "print(l)"
      ],
      "execution_count": 5,
      "outputs": [
        {
          "output_type": "stream",
          "text": [
            "1\n",
            "3\n",
            "5\n",
            "6\n",
            "7\n",
            "8\n",
            "9\n",
            "4\n",
            "2\n",
            "5\n",
            "[6, 8, 4, 2]\n"
          ],
          "name": "stdout"
        }
      ]
    },
    {
      "cell_type": "markdown",
      "metadata": {
        "id": "Ypnc3n-RJj51"
      },
      "source": [
        "Question No-2"
      ]
    },
    {
      "cell_type": "code",
      "metadata": {
        "id": "qIxycQFEJmf5",
        "outputId": "651b69f0-09f7-4f04-d868-a61252608b8e",
        "colab": {
          "base_uri": "https://localhost:8080/"
        }
      },
      "source": [
        "l=[1,2,3,4,5,6]\n",
        "l_square=[num**2 for num in l]\n",
        "l_square"
      ],
      "execution_count": 6,
      "outputs": [
        {
          "output_type": "execute_result",
          "data": {
            "text/plain": [
              "[1, 4, 9, 16, 25, 36]"
            ]
          },
          "metadata": {
            "tags": []
          },
          "execution_count": 6
        }
      ]
    },
    {
      "cell_type": "markdown",
      "metadata": {
        "id": "whtK-0F7Jp29"
      },
      "source": [
        "Question No-3"
      ]
    },
    {
      "cell_type": "code",
      "metadata": {
        "id": "1EQKtVXTJss0",
        "outputId": "4a97c32e-7134-40fd-f110-3f68789dbe60",
        "colab": {
          "base_uri": "https://localhost:8080/"
        }
      },
      "source": [
        "n=int(input())\n",
        "d={num:num*num for num in range(1,n+1)}\n",
        "print(d)"
      ],
      "execution_count": 7,
      "outputs": [
        {
          "output_type": "stream",
          "text": [
            "8\n",
            "{1: 1, 2: 4, 3: 9, 4: 16, 5: 25, 6: 36, 7: 49, 8: 64}\n"
          ],
          "name": "stdout"
        }
      ]
    },
    {
      "cell_type": "markdown",
      "metadata": {
        "id": "3VVDMZBHJzR9"
      },
      "source": [
        "Question No-4"
      ]
    },
    {
      "cell_type": "code",
      "metadata": {
        "id": "hjeHDfNcJ1cd",
        "outputId": "c8589af8-9c0f-4469-cab2-5f851588caaf",
        "colab": {
          "base_uri": "https://localhost:8080/"
        }
      },
      "source": [
        "import math as m\n",
        "\n",
        "n=int(input())\n",
        "data={'x':0,'y':0}\n",
        "\n",
        "for num in range(n):\n",
        "    s=input().upper()\n",
        "    pos=s.find(\" \")\n",
        "    \n",
        "    direction=\"\"\n",
        "    step=0\n",
        "    if pos !=-1:\n",
        "        direction = s[0:pos]\n",
        "        step=int(s[pos+1:len(s)])\n",
        "    \n",
        "    \n",
        "    if direction == \"UP\":\n",
        "        data['x']+=step\n",
        "    elif direction ==\"DOWN\":\n",
        "        data['x']-=step\n",
        "    elif direction ==\"LEFT\":\n",
        "        data['y']-=step\n",
        "    elif direction ==\"RIGHT\":\n",
        "        data['y']+=step\n",
        "    else:\n",
        "        print(\"Error: Wrong direction\")\n",
        "data\n",
        "\n",
        "dist= m.sqrt(data['x']**2+data['y']**2)\n",
        "print(str(round(dist)))"
      ],
      "execution_count": 8,
      "outputs": [
        {
          "output_type": "stream",
          "text": [
            "4\n",
            "UP 5\n",
            "DOWN 3\n",
            "LEFT 3\n",
            "RIGHT 2\n",
            "2\n"
          ],
          "name": "stdout"
        }
      ]
    }
  ]
}