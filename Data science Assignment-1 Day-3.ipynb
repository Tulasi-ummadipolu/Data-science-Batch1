{
  "nbformat": 4,
  "nbformat_minor": 0,
  "metadata": {
    "colab": {
      "name": "Untitled2.ipynb",
      "provenance": [],
      "authorship_tag": "ABX9TyNTmKTqXHSKlF11HXlfBDTE",
      "include_colab_link": true
    },
    "kernelspec": {
      "name": "python3",
      "display_name": "Python 3"
    }
  },
  "cells": [
    {
      "cell_type": "markdown",
      "metadata": {
        "id": "view-in-github",
        "colab_type": "text"
      },
      "source": [
        "<a href=\"https://colab.research.google.com/github/Tulasi-ummadipolu/Data-science-Batch1/blob/main/Data%20science%20Assignment-1%20Day-3.ipynb\" target=\"_parent\"><img src=\"https://colab.research.google.com/assets/colab-badge.svg\" alt=\"Open In Colab\"/></a>"
      ]
    },
    {
      "cell_type": "markdown",
      "metadata": {
        "id": "e9169FMANrAM"
      },
      "source": [
        "Question No-1"
      ]
    },
    {
      "cell_type": "code",
      "metadata": {
        "id": "4UHkr_oiNr03",
        "outputId": "4c35979b-6202-44f5-809a-737bf1fd8ac5",
        "colab": {
          "base_uri": "https://localhost:8080/"
        }
      },
      "source": [
        "import numpy as np\n",
        "\n",
        "arr=np.arange(2,50,3)\n",
        "\n",
        "print(arr)"
      ],
      "execution_count": 8,
      "outputs": [
        {
          "output_type": "stream",
          "text": [
            "[ 2  5  8 11 14 17 20 23 26 29 32 35 38 41 44 47]\n"
          ],
          "name": "stdout"
        }
      ]
    },
    {
      "cell_type": "markdown",
      "metadata": {
        "id": "6K7e7sbjNw8Q"
      },
      "source": [
        "Quesyion No-2"
      ]
    },
    {
      "cell_type": "code",
      "metadata": {
        "id": "wg5VkCtKNxsO",
        "outputId": "91e0c8f3-c96a-434d-9adf-9f679d0af75e",
        "colab": {
          "base_uri": "https://localhost:8080/"
        }
      },
      "source": [
        "import numpy as np\n",
        "\n",
        "list1=[]\n",
        "list2=[]\n",
        "print(\"Enter list1 Elements:\")\n",
        "for i in range(5):\n",
        "    x=int(input())\n",
        "    list1.append(x)\n",
        "\n",
        "print(\"Enter list2 Elements:\")\n",
        "for i in range(5):\n",
        "    x=int(input())\n",
        "    list2.append(x)\n",
        "\n",
        "arr1=np.array(list1)\n",
        "arr2=np.array(list2)\n",
        "\n",
        "print(\"Concatenate array:\")\n",
        "arr3=np.concatenate((arr1,arr2))\n",
        "print(arr3)\n",
        "\n",
        "print(\"Sorted array:\")\n",
        "arr4=np.sort(arr3)\n",
        "print(arr4)"
      ],
      "execution_count": 9,
      "outputs": [
        {
          "output_type": "stream",
          "text": [
            "Enter list1 Elements:\n",
            "9\n",
            "8\n",
            "7\n",
            "6\n",
            "5\n",
            "Enter list2 Elements:\n",
            "0\n",
            "1\n",
            "2\n",
            "3\n",
            "4\n",
            "Concatenate array:\n",
            "[9 8 7 6 5 0 1 2 3 4]\n",
            "Sorted array:\n",
            "[0 1 2 3 4 5 6 7 8 9]\n"
          ],
          "name": "stdout"
        }
      ]
    },
    {
      "cell_type": "markdown",
      "metadata": {
        "id": "v2IF3P2aN8iW"
      },
      "source": [
        "Question No-3"
      ]
    },
    {
      "cell_type": "code",
      "metadata": {
        "id": "bUXXbg5LN-0G",
        "outputId": "a40d541a-9513-4d17-cbed-5c6c82aa2cc7",
        "colab": {
          "base_uri": "https://localhost:8080/"
        }
      },
      "source": [
        "import numpy as np\n",
        "arr=np.array([[2,3,4],[4,5,6],[7,8,9]])\n",
        "\n",
        "print(\"Dimentions of ndrray:\",arr.ndim)\n",
        "\n",
        "print(\"Size of the Array:\",arr.size)"
      ],
      "execution_count": 10,
      "outputs": [
        {
          "output_type": "stream",
          "text": [
            "Dimentions of ndrray: 2\n",
            "Size of the Array: 9\n"
          ],
          "name": "stdout"
        }
      ]
    },
    {
      "cell_type": "markdown",
      "metadata": {
        "id": "7K9bhPP_ODbe"
      },
      "source": [
        "Question No-4\n",
        "1.Newaxis Snippet"
      ]
    },
    {
      "cell_type": "code",
      "metadata": {
        "id": "PQ3AWNdgOEWf",
        "outputId": "9d83324d-5250-4352-e97c-a3a96a34bff9",
        "colab": {
          "base_uri": "https://localhost:8080/"
        }
      },
      "source": [
        "import numpy as np\n",
        "\n",
        "arr=np.arange(8)\n",
        "print(\"Shape of the array:\",arr.shape)\n",
        "\n",
        "row_arr=arr[np.newaxis, :]\n",
        "print(\"Shape of 2d array ROW Major:\",row_arr.shape)\n",
        "\n",
        "colm_arr=arr[: ,np.newaxis]\n",
        "print(\"Shape of 2d array Column Major:\",colm_arr.shape)"
      ],
      "execution_count": 11,
      "outputs": [
        {
          "output_type": "stream",
          "text": [
            "Shape of the array: (8,)\n",
            "Shape of 2d array ROW Major: (1, 8)\n",
            "Shape of 2d array Column Major: (8, 1)\n"
          ],
          "name": "stdout"
        }
      ]
    },
    {
      "cell_type": "markdown",
      "metadata": {
        "id": "LItVXdRdOHh2"
      },
      "source": [
        "2.Expand Snippet"
      ]
    },
    {
      "cell_type": "code",
      "metadata": {
        "id": "3cqzxkvaOKTx",
        "outputId": "7801b3b7-64f7-4fe5-afd6-554dc446c546",
        "colab": {
          "base_uri": "https://localhost:8080/"
        }
      },
      "source": [
        "import numpy as np\n",
        "\n",
        "arr=np.arange(8)\n",
        "print(\"Shape of the array:\",arr.shape)\n",
        "\n",
        "row_arr=np.expand_dims(arr,axis=0)\n",
        "print(\"Shape of 2d array ROW Major:\",row_arr.shape)\n",
        "\n",
        "colm_arr=np.expand_dims(arr,axis=1)\n",
        "print(\"Shape of 2d array Column Major:\",colm_arr.shape)"
      ],
      "execution_count": 12,
      "outputs": [
        {
          "output_type": "stream",
          "text": [
            "Shape of the array: (8,)\n",
            "Shape of 2d array ROW Major: (1, 8)\n",
            "Shape of 2d array Column Major: (8, 1)\n"
          ],
          "name": "stdout"
        }
      ]
    },
    {
      "cell_type": "markdown",
      "metadata": {
        "id": "rYd-q5NrOPLd"
      },
      "source": [
        "Question No-5"
      ]
    },
    {
      "cell_type": "code",
      "metadata": {
        "id": "rICbqEOCORoF",
        "outputId": "97a5a223-dade-435a-fac7-d29e18597f4d",
        "colab": {
          "base_uri": "https://localhost:8080/"
        }
      },
      "source": [
        "import numpy as np\n",
        "\n",
        "arr1=np.square([1,2,3,4,5])\n",
        "arr2=np.square([10,9,8,7,6])\n",
        "\n",
        "print(\"Stack Horizontal:\",np.hstack((arr1,arr2)))\n",
        "print(\"Stack Vertical:\",np.vstack((arr1,arr2)))"
      ],
      "execution_count": 13,
      "outputs": [
        {
          "output_type": "stream",
          "text": [
            "Stack Horizontal: [  1   4   9  16  25 100  81  64  49  36]\n",
            "Stack Vertical: [[  1   4   9  16  25]\n",
            " [100  81  64  49  36]]\n"
          ],
          "name": "stdout"
        }
      ]
    },
    {
      "cell_type": "markdown",
      "metadata": {
        "id": "5vl_ahCvOTQ0"
      },
      "source": [
        "Question No-6"
      ]
    },
    {
      "cell_type": "code",
      "metadata": {
        "id": "GzrYrwMjOVEe",
        "outputId": "3efbe17c-e35b-438c-f6ac-d0e29d64cc93",
        "colab": {
          "base_uri": "https://localhost:8080/"
        }
      },
      "source": [
        "import numpy as np\n",
        "\n",
        "arr1=np.array([1,2,3,5,3,4,6,7,3,8,6,5,9,8,2,9,1,25,56,84])\n",
        "\n",
        "unique, counts=np.unique(arr1,return_counts=True)\n",
        "\n",
        "arr2=np.asarray((unique,counts)).T\n",
        "print(arr2)"
      ],
      "execution_count": 14,
      "outputs": [
        {
          "output_type": "stream",
          "text": [
            "[[ 1  2]\n",
            " [ 2  2]\n",
            " [ 3  3]\n",
            " [ 4  1]\n",
            " [ 5  2]\n",
            " [ 6  2]\n",
            " [ 7  1]\n",
            " [ 8  2]\n",
            " [ 9  2]\n",
            " [25  1]\n",
            " [56  1]\n",
            " [84  1]]\n"
          ],
          "name": "stdout"
        }
      ]
    }
  ]
}